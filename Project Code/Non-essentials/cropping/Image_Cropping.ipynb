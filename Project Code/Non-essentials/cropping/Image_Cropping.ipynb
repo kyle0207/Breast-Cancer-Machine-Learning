{
 "cells": [
  {
   "cell_type": "code",
   "execution_count": 1,
   "metadata": {},
   "outputs": [],
   "source": [
    "# crop function\n",
    "def crop (im, width, height, filename):\n",
    "    \n",
    "    # calculate no. of images\n",
    "    horizontal = width // 50\n",
    "    vertical = height // 50\n",
    "    \n",
    "    # cropping\n",
    "    for horizontal in range(horizontal):\n",
    "        for vertical in range(vertical):\n",
    "            \n",
    "            # coordinates of cropped images\n",
    "            left = horizontal*50\n",
    "            right = (horizontal+1)*50\n",
    "            top = vertical*50\n",
    "            bottom = (vertical+1)*50\n",
    "            im_cropped = im.crop((left,top,right,bottom))\n",
    "            \n",
    "            # cropped image directory\n",
    "            x_value = str(right+1)\n",
    "            y_value = str(bottom+1)\n",
    "            new_dir = str(os.getcwd()+\"/\"+filename+\"/\"+filename+\"_x\"+x_value+\"_y\"+y_value+\".png\")\n",
    "            \n",
    "            # saving cropped images\n",
    "            im_cropped.save(new_dir)"
   ]
  },
  {
   "cell_type": "code",
   "execution_count": 2,
   "metadata": {},
   "outputs": [],
   "source": [
    "# create folder function\n",
    "def createFolder(directory):\n",
    "    try:\n",
    "        if not os.path.exists(directory):\n",
    "            os.makedirs(directory)\n",
    "    except OSError:\n",
    "        print ('Error: Creating directory. ' +  directory)"
   ]
  },
  {
   "cell_type": "code",
   "execution_count": 3,
   "metadata": {},
   "outputs": [],
   "source": [
    "# import modules\n",
    "import glob, os\n",
    "from PIL import Image\n",
    "from pathlib import Path\n",
    "\n",
    "# converting jpg to png\n",
    "for infile in glob.glob(\"*.jpg\"):\n",
    "    im = Image.open(infile)\n",
    "    filename = Path(im.filename).stem\n",
    "    original = str(os.getcwd()+\"/\"+filename+\".jpg\")\n",
    "    converted = str(os.getcwd()+\"/\"+filename+\".png\")\n",
    "    im.save(converted)\n",
    "    os.remove(original)\n",
    "    \n",
    "# converting jpeg to png\n",
    "for infile in glob.glob(\"*.jpeg\"):\n",
    "    im = Image.open(infile)\n",
    "    filename = Path(im.filename).stem\n",
    "    original = str(os.getcwd()+\"/\"+filename+\".jpeg\")\n",
    "    converted = str(os.getcwd()+\"/\"+filename+\".png\")\n",
    "    im.save(converted)\n",
    "    os.remove(original)\n",
    "    \n",
    "# converting tiff to png\n",
    "for infile in glob.glob(\"*.tiff\"):\n",
    "    im = Image.open(infile)\n",
    "    filename = Path(im.filename).stem\n",
    "    original = str(os.getcwd()+\"/\"+filename+\".tiff\")\n",
    "    converted = str(os.getcwd()+\"/\"+filename+\".png\")\n",
    "    im.save(converted)\n",
    "    os.remove(original)\n",
    "\n",
    "# cropping png images\n",
    "for infile in glob.glob(\"*.png\"):\n",
    "    im = Image.open(infile)\n",
    "    \n",
    "    # get file name and create folder for cropped images\n",
    "    filename = Path(im.filename).stem\n",
    "    createFolder(filename)\n",
    "    \n",
    "    # get image dimensions and cropping\n",
    "    width, height = im.size\n",
    "    crop (im, width, height, filename)\n",
    "    \n",
    "    \n"
   ]
  },
  {
   "cell_type": "code",
   "execution_count": null,
   "metadata": {},
   "outputs": [],
   "source": []
  }
 ],
 "metadata": {
  "kernelspec": {
   "display_name": "Python 3",
   "language": "python",
   "name": "python3"
  },
  "language_info": {
   "codemirror_mode": {
    "name": "ipython",
    "version": 3
   },
   "file_extension": ".py",
   "mimetype": "text/x-python",
   "name": "python",
   "nbconvert_exporter": "python",
   "pygments_lexer": "ipython3",
   "version": "3.8.5"
  }
 },
 "nbformat": 4,
 "nbformat_minor": 4
}
