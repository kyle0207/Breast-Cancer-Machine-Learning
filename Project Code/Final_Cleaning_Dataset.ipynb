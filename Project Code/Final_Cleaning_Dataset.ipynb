{
 "cells": [
  {
   "cell_type": "markdown",
   "metadata": {},
   "source": [
    "## Integrating in the config file like the tutorial"
   ]
  },
  {
   "cell_type": "code",
   "execution_count": null,
   "metadata": {},
   "outputs": [],
   "source": [
    "from pathlib import Path\n",
    "\n",
    "Path.cwd()"
   ]
  },
  {
   "cell_type": "code",
   "execution_count": null,
   "metadata": {},
   "outputs": [],
   "source": [
    "import os\n",
    "os.chdir('../Downloads')\n",
    "#change to downloads"
   ]
  },
  {
   "cell_type": "code",
   "execution_count": null,
   "metadata": {},
   "outputs": [],
   "source": [
    "datasets_dir = '../Documents/datasets'\n",
    "os.mkdir(datasets_dir)\n",
    "orig_dir = '../Documents/datasets/orig'\n",
    "os.mkdir(orig_dir)"
   ]
  },
  {
   "cell_type": "code",
   "execution_count": null,
   "metadata": {},
   "outputs": [],
   "source": [
    "from zipfile import ZipFile\n",
    "with ZipFile('./archive.zip', 'r') as zip_ref:\n",
    "    zip_ref.extractall('../Documents/datasets/orig')"
   ]
  },
  {
   "cell_type": "code",
   "execution_count": null,
   "metadata": {},
   "outputs": [],
   "source": [
    "!pip install opencv-python\n",
    "#installing openCV, needed by imutils"
   ]
  },
  {
   "cell_type": "code",
   "execution_count": null,
   "metadata": {},
   "outputs": [],
   "source": [
    "!pip install imutils\n",
    "#installing imutils package"
   ]
  },
  {
   "cell_type": "code",
   "execution_count": null,
   "metadata": {},
   "outputs": [],
   "source": [
    "import os\n",
    "os.chdir('../Documents')\n",
    "#change to downloads"
   ]
  },
  {
   "cell_type": "code",
   "execution_count": null,
   "metadata": {},
   "outputs": [],
   "source": [
    "from imutils import paths\n",
    "from pyimagesearch import config\n",
    "import random, shutil, os\n",
    "\n",
    "#removing additional overlapping files\n",
    "IDC_reg_filePath = \"./datasets/orig/IDC_regular_ps50_idx5\"\n",
    "if os.path.exists(IDC_reg_filePath):\n",
    "    shutil.rmtree(IDC_reg_filePath) \n",
    "\n",
    "# taking the paths of the original dataset directory and randomly shuffling them\n",
    "patientPaths = (os.listdir(config.ORIG_INPUT_DATASET))\n",
    "random.seed(77)\n",
    "random.shuffle(patientPaths)\n",
    "\n",
    "# using train_split defined above separate train and test sets\n",
    "i = int(len(patientPaths) * config.TRAIN_SPLIT)\n",
    "trainPaths = patientPaths[:i]\n",
    "testPaths = patientPaths[i:]\n",
    "\n",
    "# separate a defined percentage (validation_split) of train set into validation\n",
    "i = int(len(trainPaths) * config.VAL_SPLIT)\n",
    "validationPaths = trainPaths[:i]\n",
    "trainPaths = trainPaths[i:]\n",
    "\n",
    "# defining new datasets\n",
    "datasets = [\n",
    "    (\"training\", trainPaths, config.TRAIN_PATH),\n",
    "    (\"validation\", validationPaths, config.VAL_PATH),\n",
    "    (\"testing\", testPaths, config.TEST_PATH)\n",
    "]"
   ]
  },
  {
   "cell_type": "code",
   "execution_count": null,
   "metadata": {},
   "outputs": [],
   "source": [
    "imagePaths = list(paths.list_images(orig_dir))\n",
    "\n",
    "print('PatientPaths: ', patientPaths [:2:], 'Length:', len(patientPaths))\n",
    "print('TrainPaths: ', trainPaths [:2:],'Length:', len(trainPaths))\n",
    "print('TestPaths:', testPaths [:2:], 'Length:', len(testPaths))\n",
    "\n",
    "print('imagePaths: ',imagePaths [:2:])"
   ]
  },
  {
   "cell_type": "code",
   "execution_count": null,
   "metadata": {},
   "outputs": [],
   "source": [
    "traindir = []\n",
    "for i in range(len(trainPaths)):\n",
    "    traindir.append(f\"../Documents/datasets/orig/{trainPaths[i]}\")\n",
    "print(traindir)"
   ]
  },
  {
   "cell_type": "code",
   "execution_count": null,
   "metadata": {},
   "outputs": [],
   "source": [
    "imageTrainPaths = []\n",
    "for i in range (len(trainPaths)):\n",
    "    imageTrainPaths += (paths.list_images(traindir[i]))"
   ]
  },
  {
   "cell_type": "code",
   "execution_count": null,
   "metadata": {},
   "outputs": [],
   "source": [
    "testdir = []\n",
    "for i in range(len(testPaths)):\n",
    "    testdir.append(f\"../Documents/datasets/orig/{testPaths[i]}\")\n",
    "\n",
    "imageTestPaths = []\n",
    "for i in range (len(testPaths)):\n",
    "    imageTestPaths += (paths.list_images(testdir[i]))"
   ]
  },
  {
   "cell_type": "code",
   "execution_count": null,
   "metadata": {},
   "outputs": [],
   "source": [
    "validationdir = []\n",
    "for i in range(len(validationPaths)):\n",
    "    validationdir.append(f\"../Documents/datasets/orig/{validationPaths[i]}\")\n",
    "\n",
    "imageValidationPaths = []\n",
    "for i in range (len(validationPaths)):\n",
    "    imageValidationPaths += (paths.list_images(validationdir[i]))"
   ]
  },
  {
   "cell_type": "code",
   "execution_count": null,
   "metadata": {},
   "outputs": [],
   "source": [
    "for (dType, imagePaths, baseOutput) in datasets:\n",
    "    # show which data split we are creating\n",
    "    print(\"[INFO] building '{}' split\".format(dType))\n",
    "\n",
    "    # if the output base output directory does not exist, create it\n",
    "    if not os.path.exists(baseOutput):\n",
    "        print(\"[INFO] 'creating {}' directory\".format(baseOutput))\n",
    "        os.makedirs(baseOutput)\n",
    "\n",
    "    # loop over the input image paths\n",
    "    for inputPath in imageTrainPaths:\n",
    "        # extract the filename of the input image and extract the\n",
    "        # class label (\"0\" for \"negative\" and \"1\" for \"positive\")\n",
    "        filename = inputPath.split(os.path.sep)[-1]\n",
    "        label = filename[-5:-4]\n",
    "\n",
    "        # build the path to the label directory\n",
    "        labelPath = os.path.sep.join([baseOutput, label])\n",
    "\n",
    "        # if the label output directory does not exist, create it\n",
    "        if not os.path.exists(labelPath):\n",
    "            print(\"[INFO] 'creating {}' directory\".format(labelPath))\n",
    "            os.makedirs(labelPath)\n",
    "\n",
    "        # construct the path to the destination image and then copy\n",
    "        # the image itself\n",
    "        p = os.path.sep.join([labelPath, filename])\n",
    "        shutil.copy2(inputPath, p)\n",
    "\n",
    "    for inputPath in imageTestPaths:\n",
    "        # extract the filename of the input image and extract the\n",
    "        # class label (\"0\" for \"negative\" and \"1\" for \"positive\")\n",
    "        filename = inputPath.split(os.path.sep)[-1]\n",
    "        label = filename[-5:-4]\n",
    "\n",
    "        # build the path to the label directory\n",
    "        labelPath = os.path.sep.join([baseOutput, label])\n",
    "\n",
    "        # if the label output directory does not exist, create it\n",
    "        if not os.path.exists(labelPath):\n",
    "            print(\"[INFO] 'creating {}' directory\".format(labelPath))\n",
    "            os.makedirs(labelPath)\n",
    "\n",
    "        # construct the path to the destination image and then copy\n",
    "        # the image itself\n",
    "        p = os.path.sep.join([labelPath, filename])\n",
    "        shutil.copy2(inputPath, p)\n",
    "        \n",
    "    for inputPath in imageValidationPaths:\n",
    "        # extract the filename of the input image and extract the\n",
    "        # class label (\"0\" for \"negative\" and \"1\" for \"positive\")\n",
    "        filename = inputPath.split(os.path.sep)[-1]\n",
    "        label = filename[-5:-4]\n",
    "\n",
    "        # build the path to the label directory\n",
    "        labelPath = os.path.sep.join([baseOutput, label])\n",
    "\n",
    "        # if the label output directory does not exist, create it\n",
    "        if not os.path.exists(labelPath):\n",
    "            print(\"[INFO] 'creating {}' directory\".format(labelPath))\n",
    "            os.makedirs(labelPath)\n",
    "\n",
    "        # construct the path to the destination image and then copy\n",
    "        # the image itself\n",
    "        p = os.path.sep.join([labelPath, filename])\n",
    "        shutil.copy2(inputPath, p)"
   ]
  },
  {
   "cell_type": "code",
   "execution_count": null,
   "metadata": {},
   "outputs": [],
   "source": [
    "print('[INFO] Summary of the Cleaned dataset:')\n",
    "\n",
    "print('Training: IDC Negative:', len(os.listdir('./datasets/idc/training/0')))\n",
    "print('Training: IDC Positive:', len(os.listdir('./datasets/idc/training/1')))\n",
    "print('Validation: IDC Negative:', len(os.listdir('./datasets/idc/validation/0')))\n",
    "print('Validation: IDC Positive:', len(os.listdir('./datasets/idc/validation/1')))\n",
    "print('Testing: IDC Negative:', len(os.listdir('./datasets/idc/testing/0')))\n",
    "print('Testing: IDC Positive:', len(os.listdir('./datasets/idc/testing/1')))"
   ]
  }
 ],
 "metadata": {
  "kernelspec": {
   "display_name": "Python 3",
   "language": "python",
   "name": "python3"
  },
  "language_info": {
   "codemirror_mode": {
    "name": "ipython",
    "version": 3
   },
   "file_extension": ".py",
   "mimetype": "text/x-python",
   "name": "python",
   "nbconvert_exporter": "python",
   "pygments_lexer": "ipython3",
   "version": "3.8.3"
  }
 },
 "nbformat": 4,
 "nbformat_minor": 4
}
