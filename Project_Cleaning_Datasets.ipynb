{
 "cells": [
  {
   "cell_type": "code",
   "execution_count": null,
   "metadata": {},
   "outputs": [],
   "source": [
    "from pathlib import Path\n",
    "\n",
    "Path.cwd()"
   ]
  },
  {
   "cell_type": "code",
   "execution_count": null,
   "metadata": {},
   "outputs": [],
   "source": [
    "import os\n",
    "os.chdir('../Downloads')\n",
    "#change to downloads"
   ]
  },
  {
   "cell_type": "code",
   "execution_count": null,
   "metadata": {},
   "outputs": [],
   "source": [
    "datasets_dir = '../Documents/datasets'\n",
    "os.mkdir(datasets_dir)\n",
    "orig_dir = '../Documents/datasets/orig'\n",
    "os.mkdir(orig_dir)"
   ]
  },
  {
   "cell_type": "code",
   "execution_count": null,
   "metadata": {},
   "outputs": [],
   "source": [
    "from zipfile import ZipFile\n",
    "with ZipFile('./archive.zip', 'r') as zip_ref:\n",
    "    zip_ref.extractall('../Documents/datasets/orig')"
   ]
  },
  {
   "cell_type": "code",
   "execution_count": null,
   "metadata": {},
   "outputs": [],
   "source": [
    "import os\n",
    "\n",
    "#original files directory\n",
    "orig_dataset_dir = \"../Documents/datasets/orig\"\n",
    "\n",
    "# base directory\n",
    "base_dir = \"../Documents/datasets/idc\"\n",
    "os.mkdir(base_dir)\n",
    "\n",
    "# training, validation and test directories\n",
    "train_dir = os.path.sep.join([base_dir, \"training\"])\n",
    "validation_dir = os.path.sep.join([base_dir, \"validation\"])\n",
    "test_dir = os.path.sep.join([base_dir, \"testing\"])\n",
    "\n",
    "#percentage to divide training from the dataset\n",
    "train_split = 0.8\n",
    "\n",
    "#percentage of the training to use as the validation set\n",
    "validation_split = 0.1"
   ]
  },
  {
   "cell_type": "code",
   "execution_count": null,
   "metadata": {},
   "outputs": [],
   "source": [
    "!pip install opencv-python\n",
    "#installing openCV, needed by imutils"
   ]
  },
  {
   "cell_type": "code",
   "execution_count": null,
   "metadata": {},
   "outputs": [],
   "source": [
    "!pip install imutils\n",
    "#installing imutils package"
   ]
  },
  {
   "cell_type": "code",
   "execution_count": null,
   "metadata": {},
   "outputs": [],
   "source": [
    "from imutils import paths\n",
    "import random, shutil, os\n",
    "\n",
    "# taking the paths of the original dataset directory and randomly shuffling them\n",
    "imagePaths = list(paths.list_images(orig_dataset_dir))\n",
    "random.seed(77)\n",
    "random.shuffle(imagePaths)\n",
    "\n",
    "# using train_split defined above separate train and test sets\n",
    "i = int(len(imagePaths) * train_split)\n",
    "trainPaths = imagePaths[:i]\n",
    "testPaths = imagePaths[i:]\n",
    "\n",
    "# separate a defined percentage (validation_split) of train set into validation\n",
    "i = int(len(trainPaths) * validation_split)\n",
    "validationPaths = trainPaths[:i]\n",
    "trainPaths = trainPaths[i:]\n",
    "\n",
    "# defining new datasets\n",
    "datasets = [\n",
    "    (\"training\", trainPaths, train_dir),\n",
    "    (\"validation\", validationPaths, validation_dir),\n",
    "    (\"testing\", testPaths, test_dir)\n",
    "]"
   ]
  },
  {
   "cell_type": "code",
   "execution_count": null,
   "metadata": {},
   "outputs": [],
   "source": [
    "# loop over the datasets\n",
    "for (dType, imagePaths, baseOutput) in datasets:\n",
    "    # printing the name of split being created\n",
    "    print(\"[NOW] Building the '{}' split\".format(dType))\n",
    "\n",
    "    # if the output base output directory does not exist, create it\n",
    "    if not os.path.exists(baseOutput):\n",
    "        print(\"[NOW] Creating the '{}' directory\".format(baseOutput))\n",
    "        os.mkdir(baseOutput)\n",
    "\n",
    "    # loop over the input image paths\n",
    "    for inputPath in imagePaths:\n",
    "        # extracting the class labels from the title and label\n",
    "        filename = inputPath.split(os.path.sep)[-1]\n",
    "        label = filename[-5:-4]\n",
    "\n",
    "        # label directory\n",
    "        labelPath = os.path.sep.join([baseOutput, label])\n",
    "\n",
    "        # if the label output directory does not exist, create it\n",
    "        if not os.path.exists(labelPath):\n",
    "            print(\"[NOW] Creating the '{}' directory\".format(labelPath))\n",
    "            os.mkdir(labelPath)\n",
    "\n",
    "        # construct the path to the destination image and then copy\n",
    "        # the image itself\n",
    "        p = os.path.sep.join([labelPath, filename])\n",
    "        shutil.copy2(inputPath, p)"
   ]
  },
  {
   "cell_type": "code",
   "execution_count": null,
   "metadata": {},
   "outputs": [],
   "source": [
    "print('Summary of the Cleaned dataset:')\n",
    "\n",
    "print('Training: IDC Negative:', len(os.listdir('../Documents/datasets/idc/training/0')))\n",
    "print('Training: IDC Positive:', len(os.listdir('../Documents/datasets/idc/training/1')))\n",
    "print('Validation: IDC Negative:', len(os.listdir('../Documents/datasets/idc/validation/0')))\n",
    "print('Validation: IDC Positive:', len(os.listdir('../Documents/datasets/idc/validation/1')))\n",
    "print('Testing: IDC Negative:', len(os.listdir('../Documents/datasets/idc/testing/0')))\n",
    "print('Testing: IDC Positive:', len(os.listdir('../Documents/datasets/idc/testing/1')))"
   ]
  }
 ],
 "metadata": {
  "kernelspec": {
   "display_name": "Python 3",
   "language": "python",
   "name": "python3"
  },
  "language_info": {
   "codemirror_mode": {
    "name": "ipython",
    "version": 3
   },
   "file_extension": ".py",
   "mimetype": "text/x-python",
   "name": "python",
   "nbconvert_exporter": "python",
   "pygments_lexer": "ipython3",
   "version": "3.8.3"
  }
 },
 "nbformat": 4,
 "nbformat_minor": 4
}
